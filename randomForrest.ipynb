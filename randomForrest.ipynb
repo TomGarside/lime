{
 "cells": [
  {
   "cell_type": "code",
   "execution_count": 4,
   "metadata": {},
   "outputs": [
    {
     "name": "stdout",
     "output_type": "stream",
     "text": [
      "http response: 200 OK\n",
      "\n",
      "\n",
      "[[164  35]\n",
      " [ 37 164]]\n",
      "              precision    recall  f1-score   support\n",
      "\n",
      "    negative       0.82      0.82      0.82       199\n",
      "    positive       0.82      0.82      0.82       201\n",
      "\n",
      "    accuracy                           0.82       400\n",
      "   macro avg       0.82      0.82      0.82       400\n",
      "weighted avg       0.82      0.82      0.82       400\n",
      "\n",
      "0.82\n"
     ]
    }
   ],
   "source": [
    "#load data \n",
    "import pandas as pd\n",
    "import numpy as np\n",
    "import requests \n",
    "import tarfile\n",
    "import os \n",
    "import gensim\n",
    "import gensim.downloader\n",
    "from sklearn.ensemble import RandomForestClassifier\n",
    "from sklearn.model_selection import train_test_split\n",
    "from sklearn.metrics import classification_report, confusion_matrix, accuracy_score\n",
    "\n",
    "url = \"https://www.cs.jhu.edu/~mdredze/datasets/sentiment/processed_acl.tar.gz\"\n",
    "filename = \"processed_acl\"\n",
    "extension = \".tar.gz\"\n",
    "\n",
    "response = requests.get(url, allow_redirects=True)\n",
    "\n",
    "print(\"http response:\",response.status_code,response.reason)\n",
    "\n",
    "with open(filename+extension,\"wb\") as file: \n",
    "    file.write(response.content)\n",
    "    \n",
    "tar = tarfile.open(filename+extension, \"r:gz\")\n",
    "tar.extractall()\n",
    "tar.close()\n",
    "# # merge files using shell commands \n",
    "print(os.popen(\"cat \" + filename+\"/books/negative.review > mixed.txt\").read())\n",
    "print(os.popen(\"cat \" + filename+\"/books/positive.review >> mixed.txt\").read())\n",
    "# print(os.popen(\"cat \" + filename+\"/dvd/all.review >> mixed.txt\").read())\n",
    "# print(os.popen(\"cat \" + filename+\"/dvd/positive.review >> mixed.txt\").read())\n",
    "\n",
    "\n",
    "\n",
    "# parse data into array for word 2 vect \n",
    "dataArray = []\n",
    "labelArray = []\n",
    "\n",
    "with open(\"mixed.txt\", \"r\") as datafile: \n",
    "    lines = datafile.readlines()\n",
    "    for e in lines:\n",
    "        lineList= []\n",
    "        splitLine = e.split()\n",
    "        label = splitLine.pop(-1)\n",
    "        for i in splitLine:\n",
    "            dictSplit = i.split(':')\n",
    "            lineList.append(dictSplit[0])\n",
    "        dataArray.insert(-1, lineList)\n",
    "        labelArray.insert(-1, (label.split(':')[1]))\n",
    "\n",
    "#download word2vec model          \n",
    "word2vec = gensim.downloader.load('fasttext-wiki-news-subwords-300')\n",
    "\n",
    "\n",
    "# create mean embedding \n",
    "embed = np.array([ np.mean([word2vec[w] for w in words if w in word2vec], axis=0) for words in dataArray])\n",
    "\n",
    "X_train, X_test, y_train, y_test = train_test_split(embed, labelArray, test_size=0.2, random_state=42)\n",
    "\n",
    "text_classifier = RandomForestClassifier(n_estimators=700, random_state=42)\n",
    "text_classifier.fit(X_train, y_train)\n",
    "\n",
    "predictions = text_classifier.predict(X_test)\n",
    "\n",
    "from sklearn.metrics import classification_report, confusion_matrix, accuracy_score\n",
    "\n",
    "print(confusion_matrix(y_test,predictions))\n",
    "print(classification_report(y_test,predictions))\n",
    "print(accuracy_score(y_test, predictions))\n",
    "\n"
   ]
  },
  {
   "cell_type": "code",
   "execution_count": null,
   "metadata": {},
   "outputs": [],
   "source": [
    "#  dl tubspam data set \n",
    "# load into numpy array \n",
    "# create embedings on full text \n",
    "# use classifier to classify the dataset \n"
   ]
  }
 ],
 "metadata": {
  "kernelspec": {
   "display_name": "Python 3",
   "language": "python",
   "name": "python3"
  },
  "language_info": {
   "codemirror_mode": {
    "name": "ipython",
    "version": 3
   },
   "file_extension": ".py",
   "mimetype": "text/x-python",
   "name": "python",
   "nbconvert_exporter": "python",
   "pygments_lexer": "ipython3",
   "version": "3.8.5"
  }
 },
 "nbformat": 4,
 "nbformat_minor": 2
}
